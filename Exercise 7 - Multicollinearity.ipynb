{
 "cells": [
  {
   "cell_type": "markdown",
   "id": "7fc95f13",
   "metadata": {},
   "source": [
    "###### <h2> Exercise 7 - Multicollinearity</h2>"
   ]
  },
  {
   "cell_type": "markdown",
   "id": "65dd5dcc",
   "metadata": {},
   "source": [
    "We now consider a linear specification $y=\\alpha + \\beta_1x_1 + \\beta_2x_2 +\\epsilon$ in which the error term $\\epsilon$ depends multiplicatively on $x_1$ with an additional $N(1,1)$ noise factor.  We first attempt to estimate parameters by OLS:"
   ]
  },
  {
   "cell_type": "code",
   "execution_count": 25,
   "id": "585beaf5",
   "metadata": {},
   "outputs": [
    {
     "name": "stdout",
     "output_type": "stream",
     "text": [
      "Parameter estimate: [-0.12157855629716564, 1.52967772896324, 6.117634093382217]\n"
     ]
    }
   ],
   "source": [
    "using Distributions\n",
    "using PyPlot\n",
    "using LinearAlgebra\n",
    "using Printf\n",
    "using Random\n",
    "\n",
    "\n",
    "d = Normal(0,1);\n",
    "N = 50;\n",
    "\n",
    "alpha = 0.78;\n",
    "beta1 = 2.34;\n",
    "beta2 = 5.61;\n",
    "\n",
    "m = 2.0;\n",
    "b = 1.3;\n",
    "\n",
    "x1 = rand(d,N);\n",
    "x2 = m*x1.+b;\n",
    "eps = rand(Normal(0.0,1.0),N);\n",
    "\n",
    "y = alpha .+ beta1*x1 + beta2*x2 + eps;\n",
    "\n",
    "X = [ones(N) x1 x2];\n",
    "\n",
    "betaHat = (X'*X)\\(X'*y);\n",
    "\n",
    "println(\"Parameter estimate: \", betaHat)"
   ]
  },
  {
   "cell_type": "markdown",
   "id": "f4553048",
   "metadata": {},
   "source": [
    "Surprisingly, we do obtain parameter estimates, despite the fact that $x_2$ is a linear combination of the constant term and $x_1$.  However, these estimates are far from the true values.  Directly inverting the matrix $X'X$ reveals that it is essentially singular, so that we should not trust the estimates:  "
   ]
  },
  {
   "cell_type": "code",
   "execution_count": 26,
   "id": "dc985d46",
   "metadata": {},
   "outputs": [
    {
     "data": {
      "text/plain": [
       "3×3 Matrix{Float64}:\n",
       "  3.70912   5.54301  -2.80602\n",
       "  5.54301   8.34889  -4.21499\n",
       " -2.80602  -4.21499   2.13438"
      ]
     },
     "execution_count": 26,
     "metadata": {},
     "output_type": "execute_result"
    }
   ],
   "source": [
    "inv(X'*X)"
   ]
  },
  {
   "cell_type": "markdown",
   "id": "36910ad3",
   "metadata": {},
   "source": [
    "Repeating the exercise with a small amount of random variation around the collinearity, the issue is mitigated somewhat, but nonetheless remains."
   ]
  },
  {
   "cell_type": "code",
   "execution_count": 27,
   "id": "f2ff0510",
   "metadata": {},
   "outputs": [
    {
     "name": "stdout",
     "output_type": "stream",
     "text": [
      "Parameter estimate: [53.237413021208795, 83.16443590716347, -34.72027857400179]\n"
     ]
    }
   ],
   "source": [
    "x2 = m*x1.+b+rand(Normal(0.0,1e-3),N);\n",
    "eps = rand(Normal(0.0,1.0),N);\n",
    "\n",
    "y = alpha .+ beta1*x1 + beta2*x2 + eps;\n",
    "\n",
    "X = [ones(N) x1 x2];\n",
    "\n",
    "betaHat = (X'*X)\\(X'*y);\n",
    "\n",
    "println(\"Parameter estimate: \", betaHat)"
   ]
  },
  {
   "cell_type": "code",
   "execution_count": 28,
   "id": "a2590853",
   "metadata": {},
   "outputs": [
    {
     "data": {
      "text/plain": [
       "3×3 Matrix{Float64}:\n",
       "  37921.5   58332.5  -29166.8\n",
       "  58332.5   89729.7  -44865.6\n",
       " -29166.8  -44865.6   22433.2"
      ]
     },
     "execution_count": 28,
     "metadata": {},
     "output_type": "execute_result"
    }
   ],
   "source": [
    "inv(X'*X)"
   ]
  },
  {
   "cell_type": "markdown",
   "id": "797cff9f",
   "metadata": {},
   "source": [
    "To regain reasonable estimates, we appear to need variance of the random variation around the collinear component on the rough order of magnitude as the collinear component."
   ]
  },
  {
   "cell_type": "code",
   "execution_count": 33,
   "id": "6a121fae",
   "metadata": {},
   "outputs": [
    {
     "name": "stdout",
     "output_type": "stream",
     "text": [
      "Parameter estimate: [0.6473628854142742, 2.510444467691282, 5.623019548077832]\n"
     ]
    }
   ],
   "source": [
    "x2 = m*x1.+b+rand(Normal(0.0,1.0),N);\n",
    "eps = rand(Normal(0.0,1.0),N);\n",
    "\n",
    "y = alpha .+ beta1*x1 + beta2*x2 + eps;\n",
    "\n",
    "X = [ones(N) x1 x2];\n",
    "\n",
    "betaHat = (X'*X)\\(X'*y);\n",
    "\n",
    "println(\"Parameter estimate: \", betaHat)"
   ]
  },
  {
   "cell_type": "code",
   "execution_count": null,
   "id": "f535c2ce",
   "metadata": {},
   "outputs": [],
   "source": []
  }
 ],
 "metadata": {
  "kernelspec": {
   "display_name": "Julia 1.7.2",
   "language": "julia",
   "name": "julia-1.7"
  },
  "language_info": {
   "file_extension": ".jl",
   "mimetype": "application/julia",
   "name": "julia",
   "version": "1.7.2"
  }
 },
 "nbformat": 4,
 "nbformat_minor": 5
}
