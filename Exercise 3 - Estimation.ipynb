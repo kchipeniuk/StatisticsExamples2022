{
 "cells": [
  {
   "cell_type": "markdown",
   "id": "2d6b12c5",
   "metadata": {},
   "source": [
    "<h2> Exercise 3 - Estimation </h2>"
   ]
  },
  {
   "cell_type": "markdown",
   "id": "0f6e640b",
   "metadata": {},
   "source": [
    "We will now estimate the parameters in a linear model\n",
    "\\begin{align}\n",
    "y = \\alpha + \\beta_1x_1 + \\beta_2 x_2 + \\epsilon\n",
    "\\end{align}\n",
    "where\n",
    "\\begin{align}\n",
    "\\epsilon &\\sim \\text{N}(0,\\sigma^2)\\notag\n",
    "\\end{align}"
   ]
  },
  {
   "cell_type": "code",
   "execution_count": 1,
   "id": "39a41f98",
   "metadata": {},
   "outputs": [],
   "source": [
    "using Distributions\n",
    "using PyPlot"
   ]
  },
  {
   "cell_type": "markdown",
   "id": "06037151",
   "metadata": {},
   "source": [
    "For fun I'll draw the values of $x$ from a $\\chi_3^2$ distribution.  Generally speaking $\\chi_q^2$ distributions frequently arise as the asymptotic distributions of test statistics.  They have mean $q$ and variance $2q$."
   ]
  },
  {
   "cell_type": "code",
   "execution_count": 2,
   "id": "a6f70dcf",
   "metadata": {},
   "outputs": [
    {
     "name": "stdout",
     "output_type": "stream",
     "text": [
      "Mean: 3.0\n",
      "Variance: 6.0\n"
     ]
    }
   ],
   "source": [
    "d = Chisq(3);\n",
    "println(\"Mean: \", mean(d))\n",
    "println(\"Variance: \", var(d))"
   ]
  },
  {
   "cell_type": "markdown",
   "id": "e5fae616",
   "metadata": {},
   "source": [
    "Next, we draw several values of $x$ and $\\epsilon$ and compute the corresponding values of $y$."
   ]
  },
  {
   "cell_type": "code",
   "execution_count": 3,
   "id": "71267531",
   "metadata": {},
   "outputs": [],
   "source": [
    "N = 10000;\n",
    "alpha = 0.5;\n",
    "beta1 = 2;\n",
    "beta2 = 5.4;\n",
    "x1 = rand(d,N);\n",
    "x2 = rand(d,N);\n",
    "eps = rand(Normal(),N);\n",
    "y = alpha .+ beta1*x1 + beta2*x2 + eps;"
   ]
  },
  {
   "cell_type": "markdown",
   "id": "36066238",
   "metadata": {},
   "source": [
    "Finally, we can compute the least squares predictor using the sample analogue of the first order condition solution."
   ]
  },
  {
   "cell_type": "code",
   "execution_count": 4,
   "id": "f54ebd33",
   "metadata": {},
   "outputs": [
    {
     "name": "stdout",
     "output_type": "stream",
     "text": [
      "Standard normal errors: Estimated beta is [0.4893098997079146, 2.0067689966726046, 5.39917673335123]\n"
     ]
    }
   ],
   "source": [
    "X = [ones(N) x1 x2];\n",
    "betaHat = (X'*X)\\(X'*y);\n",
    "println(\"Standard normal errors: Estimated beta is \", betaHat)"
   ]
  },
  {
   "cell_type": "markdown",
   "id": "0d42d3f2",
   "metadata": {},
   "source": [
    "When the residuals are independent of $x$, we get back the linear coefficient $\\beta$.  However, when they contain a nonlinear function of $x$ (and in this case a function which can drastically impact the value of $y$), the best linear predictor of $y$ is no longer $\\beta x$.  Rather, we get a very large coefficient which attempts to correct for the large impact of the $e^x$ term."
   ]
  },
  {
   "cell_type": "markdown",
   "id": "77bb79f3",
   "metadata": {},
   "source": [
    "Repeating with a Cauchy distribution for $x$ or $\\epsilon$:"
   ]
  },
  {
   "cell_type": "code",
   "execution_count": 5,
   "id": "60479e75",
   "metadata": {},
   "outputs": [
    {
     "name": "stdout",
     "output_type": "stream",
     "text": [
      "Cauchy distribution for x: Estimated beta is [0.5095088079087821, 2.0002045736832432, 5.399133418455244]\n",
      "Cauchy errors: Estimated beta is [2.4862132208268584, 1.789517973325713, 5.105447389946173]\n"
     ]
    }
   ],
   "source": [
    "CauchyDraws = rand(Cauchy(),N);\n",
    "yCx1 = alpha .+ beta1*CauchyDraws +beta2*x2 + eps;\n",
    "yCeps = alpha .+ beta1*x1 + beta2*x2 + CauchyDraws;\n",
    "CauchyX = [ones(N) CauchyDraws x2]\n",
    "betaHatCx = (CauchyX'*CauchyX)\\(CauchyX'*yCx1);\n",
    "betaHatCeps = (X'*X)\\(X'*yCeps);\n",
    "println(\"Cauchy distribution for x: Estimated beta is \", betaHatCx)\n",
    "println(\"Cauchy errors: Estimated beta is \", betaHatCeps)"
   ]
  },
  {
   "cell_type": "markdown",
   "id": "b5c6c303",
   "metadata": {},
   "source": [
    "Despite the fact that the popultation mean of $x_1$ is undefined when it is Cauchy distributed, our coefficient estimates in the finite sample are nonetheless close to the chosen values.  Conversely, when the errors are Cauchy distributed the estimates diverge significantly from the chosen values."
   ]
  },
  {
   "cell_type": "code",
   "execution_count": null,
   "id": "8aa64206",
   "metadata": {},
   "outputs": [],
   "source": []
  }
 ],
 "metadata": {
  "kernelspec": {
   "display_name": "Julia 1.7.2",
   "language": "julia",
   "name": "julia-1.7"
  },
  "language_info": {
   "file_extension": ".jl",
   "mimetype": "application/julia",
   "name": "julia",
   "version": "1.7.2"
  }
 },
 "nbformat": 4,
 "nbformat_minor": 5
}
