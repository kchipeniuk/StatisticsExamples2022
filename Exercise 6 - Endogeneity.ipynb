{
 "cells": [
  {
   "cell_type": "markdown",
   "id": "7fc95f13",
   "metadata": {},
   "source": [
    "###### <h2> Exercise 6 - Endogeneity</h2>"
   ]
  },
  {
   "cell_type": "markdown",
   "id": "65dd5dcc",
   "metadata": {},
   "source": [
    "We now consider a linear specification $y=\\alpha + \\beta_1x_1 + \\beta_2x_2 +\\epsilon$ in which the error term $\\epsilon$ depends multiplicatively on $x_1$ with an additional $N(1,1)$ noise factor.  We first attempt to estimate parameters by OLS:"
   ]
  },
  {
   "cell_type": "code",
   "execution_count": 1,
   "id": "585beaf5",
   "metadata": {},
   "outputs": [
    {
     "name": "stdout",
     "output_type": "stream",
     "text": [
      "Parameter estimate: [0.7567675318130073, 3.7542089968680523, 5.567687525973848]\n"
     ]
    }
   ],
   "source": [
    "using Distributions\n",
    "using PyPlot\n",
    "using LinearAlgebra\n",
    "using Printf\n",
    "using Random\n",
    "\n",
    "\n",
    "d = Normal(0,1);\n",
    "N = 50;\n",
    "\n",
    "alpha = 0.78;\n",
    "beta1 = 2.34;\n",
    "beta2 = 5.61;\n",
    "\n",
    "x1 = rand(d,N);\n",
    "x2 = rand(d,N);\n",
    "eps = x1.*rand(Normal(1.0,1.0),N);\n",
    "\n",
    "y = alpha .+ beta1*x1 + beta2*x2 + eps;\n",
    "\n",
    "X = [ones(N) x1 x2];\n",
    "\n",
    "betaHat = (X'*X)\\(X'*y);\n",
    "\n",
    "println(\"Parameter estimate: \", betaHat)"
   ]
  },
  {
   "cell_type": "markdown",
   "id": "27db4a85",
   "metadata": {},
   "source": [
    "While the estimates for $\\alpha$ and $\\beta_2$ are reasonable, that for $\\beta_1$ is far from the specified value.  Recall our main assumptions underlining OLS:\n",
    "\\begin{align}\n",
    "\\mathbb{E}[\\epsilon]&=0\\notag\\\\\n",
    "\\mathbb{E}[\\epsilon|\\boldsymbol{x}]&=0\\notag\\\\\n",
    "&\\implies \\mathbb{E}[\\boldsymbol{x}\\epsilon] = 0\\notag\n",
    "\\end{align}\n",
    "where the third inequality follows from the combination of the first two.  In the specification given, we have\n",
    "\\begin{align}\n",
    "\\mathbb{E}[\\epsilon] &= \\mathbb{E}[x_1u],\\ \\ u\\sim N(1,1)\\notag\\\\\n",
    "&= \\mathbb{E}[\\mathbb{E}[x_1u|x_1]]\\notag\\\\\n",
    "&= \\mathbb{E}[x_1\\mathbb{E}[u|x_1]]\\ \\ \\ \\text{(Law of Iterated Expectations)}\\notag\\\\\n",
    "&= \\mathbb{E}[x_1\\mathbb{E}[u]]\\ \\ \\ \\ \\ \\ \\text{(Independence of $x_1$ and $u$)}\\notag\\\\\n",
    "&= \\mathbb{E}[x_1]\\notag\\\\\n",
    "&= 0\n",
    "\\end{align}\n",
    "Hence the first main assumption holds.  However, we also have\n",
    "\\begin{align}\n",
    "\\mathbb{E}[x_1\\epsilon] &= \\mathbb{E}[x_1^2u]\\notag\\\\\n",
    "&= \\mathbb{E}[x_1^2\\mathbb{E}[u|x_1]]\\notag\\\\\n",
    "&= \\mathbb{E}[x_1^2]\\notag\\\\\n",
    "&= 1\n",
    "\\end{align}\n",
    "so that the variable $x_1$ is endogenous and the exogeneity requirement fails."
   ]
  },
  {
   "cell_type": "code",
   "execution_count": null,
   "id": "e1071f9e",
   "metadata": {},
   "outputs": [],
   "source": []
  }
 ],
 "metadata": {
  "kernelspec": {
   "display_name": "Julia 1.7.2",
   "language": "julia",
   "name": "julia-1.7"
  },
  "language_info": {
   "file_extension": ".jl",
   "mimetype": "application/julia",
   "name": "julia",
   "version": "1.7.2"
  }
 },
 "nbformat": 4,
 "nbformat_minor": 5
}
