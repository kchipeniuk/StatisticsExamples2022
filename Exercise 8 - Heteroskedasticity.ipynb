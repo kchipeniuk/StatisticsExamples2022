{
 "cells": [
  {
   "cell_type": "markdown",
   "id": "7fc95f13",
   "metadata": {},
   "source": [
    "###### <h2> Exercise 8 - Heteroskedasticity</h2>"
   ]
  },
  {
   "cell_type": "markdown",
   "id": "65dd5dcc",
   "metadata": {},
   "source": [
    "We now consider a linear specification $y=\\alpha + \\beta_1x_1 + \\beta_2x_2 +\\epsilon$ in which the error term $\\epsilon$ has variance which scales as the square of $x_1$.  We begin by performing several $t$ tests when we set $\\beta_1=0$."
   ]
  },
  {
   "cell_type": "code",
   "execution_count": 21,
   "id": "585beaf5",
   "metadata": {},
   "outputs": [
    {
     "name": "stdout",
     "output_type": "stream",
     "text": [
      "Average coefficient estimate: 0.0012974731722132631\n",
      "Number of Type I errors: 176\n"
     ]
    }
   ],
   "source": [
    "using Distributions\n",
    "using PyPlot\n",
    "using LinearAlgebra\n",
    "using Printf\n",
    "using Random\n",
    "\n",
    "TypeI = 0;\n",
    "\n",
    "d = Normal(0,1);\n",
    "N = 500;\n",
    "\n",
    "alpha = 0.78;\n",
    "beta1 = 0.0;\n",
    "beta2 = 5.61;\n",
    "\n",
    "M = 1000;\n",
    "betas = zeros(M);\n",
    "\n",
    "for ii=1:M\n",
    "\n",
    "    x1 = rand(d,N);\n",
    "    x2 = rand(d,N);\n",
    "\n",
    "    eps = zeros(N);\n",
    "    for ii=1:N\n",
    "        eps[ii] = rand(Normal(0.0,x1[ii]^2))\n",
    "    end\n",
    "\n",
    "    y = alpha .+ beta1*x1 + beta2*x2 + eps;\n",
    "\n",
    "    X = [ones(N) x1 x2];\n",
    "\n",
    "    betaHat = (X'*X)\\(X'*y);\n",
    "    epsHat = y - X*betaHat\n",
    "    SigHat = inv(X'*X)*(epsHat'*epsHat)\n",
    "    \n",
    "    betaHat1 = betaHat[2]\n",
    "    betas[ii] = betaHat1\n",
    "    stdErr1 = sqrt(SigHat[2,2])/sqrt(N-3)\n",
    "    tHat1 = betaHat1/stdErr1;\n",
    "    p1 = cdf(TDist(3),-abs(tHat1)) + (1-cdf(TDist(3),abs(tHat1)))\n",
    "    \n",
    "    if(p1<0.06)\n",
    "        TypeI = TypeI + 1;\n",
    "    end\n",
    "    \n",
    "end\n",
    "\n",
    "println(\"Average coefficient estimate: \", mean(betas))\n",
    "println(\"Number of Type I errors: \", TypeI)"
   ]
  },
  {
   "cell_type": "markdown",
   "id": "f4553048",
   "metadata": {},
   "source": [
    "The parameter estimate for $\\beta_1$ are reasonable, which is to be expected since having heteroskedastic errors does not affect consistency of the OLS estimator. However, a large fraction of the tests return a Type I error.  To confirm that heteroskedasticity is the issue, we repeat the exercise with a constant error term variance."
   ]
  },
  {
   "cell_type": "code",
   "execution_count": 23,
   "id": "9d348bb6",
   "metadata": {},
   "outputs": [
    {
     "name": "stdout",
     "output_type": "stream",
     "text": [
      "Average coefficient estimate: -0.001380853599643182\n",
      "Number of Type I errors: 5\n"
     ]
    }
   ],
   "source": [
    "TypeI = 0\n",
    "\n",
    "for ii=1:M\n",
    "\n",
    "    x1 = rand(d,N);\n",
    "    x2 = rand(d,N);\n",
    "\n",
    "    eps = rand(Normal(),N);\n",
    "\n",
    "    y = alpha .+ beta1*x1 + beta2*x2 + eps;\n",
    "\n",
    "    X = [ones(N) x1 x2];\n",
    "\n",
    "    betaHat = (X'*X)\\(X'*y);\n",
    "    epsHat = y - X*betaHat\n",
    "    SigHat = inv(X'*X)*(epsHat'*epsHat)\n",
    "    \n",
    "    betaHat1 = betaHat[2]\n",
    "    betas[ii] = betaHat1\n",
    "    stdErr1 = sqrt(SigHat[2,2])/sqrt(N-3)\n",
    "    tHat1 = betaHat1/stdErr1;\n",
    "    p1 = cdf(TDist(3),-abs(tHat1)) + (1-cdf(TDist(3),abs(tHat1)))\n",
    "    \n",
    "    if(p1<0.06)\n",
    "        TypeI = TypeI + 1;\n",
    "    end\n",
    "    \n",
    "end\n",
    "\n",
    "println(\"Average coefficient estimate: \", mean(betas))\n",
    "println(\"Number of Type I errors: \", TypeI)"
   ]
  },
  {
   "cell_type": "markdown",
   "id": "0e8a1d61",
   "metadata": {},
   "source": [
    "Removing the heteroskedasticity reduces the likelihood of a Type I error to almost nothing."
   ]
  },
  {
   "cell_type": "code",
   "execution_count": null,
   "id": "7bcfa11d",
   "metadata": {},
   "outputs": [],
   "source": []
  }
 ],
 "metadata": {
  "kernelspec": {
   "display_name": "Julia 1.7.2",
   "language": "julia",
   "name": "julia-1.7"
  },
  "language_info": {
   "file_extension": ".jl",
   "mimetype": "application/julia",
   "name": "julia",
   "version": "1.7.2"
  }
 },
 "nbformat": 4,
 "nbformat_minor": 5
}
