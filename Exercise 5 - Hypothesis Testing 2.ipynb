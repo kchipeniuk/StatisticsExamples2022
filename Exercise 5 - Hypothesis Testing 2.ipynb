{
 "cells": [
  {
   "cell_type": "markdown",
   "id": "7fc95f13",
   "metadata": {},
   "source": [
    "<h2> Exercise 5 - Hypothesis Testing 2</h2>"
   ]
  },
  {
   "cell_type": "markdown",
   "id": "65dd5dcc",
   "metadata": {},
   "source": [
    "We will now use the specifications in the previous example and consider the hypothesis $H_0:\\ \\beta_1\\neq 0$.  This time I'll use a $\\Gamma$ distribution for $x$, which is a distribution commonly used to model waiting times."
   ]
  },
  {
   "cell_type": "code",
   "execution_count": 109,
   "id": "585beaf5",
   "metadata": {},
   "outputs": [
    {
     "name": "stdout",
     "output_type": "stream",
     "text": [
      "Parameter estimate: [10.240011819311386, -4.751711835709744e-6, -5.8033989880139674e-5]\n"
     ]
    }
   ],
   "source": [
    "using Distributions\n",
    "using PyPlot\n",
    "using LinearAlgebra\n",
    "using Printf\n",
    "using Random\n",
    "\n",
    "\n",
    "d = Normal(0,1);#Gamma(0.5,0.05);\n",
    "N = 20;\n",
    "\n",
    "alpha = 10.24;\n",
    "beta1 = 0.0;\n",
    "beta2 = 0.0;\n",
    "\n",
    "x1 = rand(d,N);\n",
    "x2 = rand(d,N);\n",
    "eps = rand(Normal(0.0,0.00005),N);\n",
    "\n",
    "y = alpha .+ beta1*x1 + beta2*x2 + eps;\n",
    "\n",
    "X = [ones(N) x1 x2];\n",
    "\n",
    "betaHat = (X'*X)\\(X'*y);\n",
    "\n",
    "println(\"Parameter estimate: \", betaHat)"
   ]
  },
  {
   "cell_type": "markdown",
   "id": "27db4a85",
   "metadata": {},
   "source": [
    "We now need to calculate the test statistic\n",
    "\\begin{align}\n",
    "\t\t\t\t\\widehat{F} &= \\frac{\\left[\\sum_{j=1}^N(y_j - \\overline{y})^2-\\sum_{j=1}^N(y_j - \\widehat{y}_j)^2\\right]/2}{\\sum_{j=1}^N(y_j - \\widehat{y}_j)^2/(N-3)}\\notag\n",
    "\\end{align} \n",
    "where\n",
    "\\begin{align}\n",
    "\\widehat{y}_j &= \\widehat{\\alpha} + \\widehat{\\beta}_1x_{1,j} + \\widehat{\\beta}_2 x_{2,j}\\notag\\\\ \n",
    "\\overline{y} &= \\frac{1}{N}\\sum_{j=1}^N y_j\\notag\n",
    "\\end{align}"
   ]
  },
  {
   "cell_type": "code",
   "execution_count": 110,
   "id": "090e261f",
   "metadata": {},
   "outputs": [
    {
     "data": {
      "text/plain": [
       "9.170433448353762"
      ]
     },
     "execution_count": 110,
     "metadata": {},
     "output_type": "execute_result"
    }
   ],
   "source": [
    "yBar = mean(y);\n",
    "yHat = betaHat[1] .+ betaHat[2]*x1 + betaHat[3]*x2;\n",
    "Fhat = (sum((y.-yBar).^2) - sum((y-yHat).^2)/2)/(sum((y-yHat).^2)/(N-3))"
   ]
  },
  {
   "cell_type": "markdown",
   "id": "f50ddf3a",
   "metadata": {},
   "source": [
    "We can now compute the $p$ values as the likelihood of obtaining a value at least as large as $\\widehat{F}$ from a $F(2,N-3)$ draw.  Since such a variable can only take values in $[0,\\infty)$, if $G$ is the corresponding CDF we can compute the $p$ value as $1 - G(\\widehat{F})$."
   ]
  },
  {
   "cell_type": "code",
   "execution_count": 111,
   "id": "adb805ae",
   "metadata": {},
   "outputs": [
    {
     "name": "stdout",
     "output_type": "stream",
     "text": [
      "p value: 0.01107816942682227\n"
     ]
    }
   ],
   "source": [
    "p = 1-cdf(FDist(2,N-3),Fhat)\n",
    "\n",
    "println(\"p value: \", p)"
   ]
  },
  {
   "cell_type": "markdown",
   "id": "031b264b",
   "metadata": {},
   "source": [
    "Even with extreme values for error variance and sample size, the test gives a Type I error."
   ]
  }
 ],
 "metadata": {
  "kernelspec": {
   "display_name": "Julia 1.7.2",
   "language": "julia",
   "name": "julia-1.7"
  },
  "language_info": {
   "file_extension": ".jl",
   "mimetype": "application/julia",
   "name": "julia",
   "version": "1.7.2"
  }
 },
 "nbformat": 4,
 "nbformat_minor": 5
}
