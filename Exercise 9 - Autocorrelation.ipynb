{
 "cells": [
  {
   "cell_type": "markdown",
   "id": "7fc95f13",
   "metadata": {},
   "source": [
    "###### <h2> Exercise 9 - Autocorrelation</h2>"
   ]
  },
  {
   "cell_type": "markdown",
   "id": "65dd5dcc",
   "metadata": {},
   "source": [
    "We now consider a linear specification $y_t=\\alpha + \\beta_1x_{1,t} + \\beta_2x_{2,t} +\\epsilon_t$ in which the error term $\\epsilon_t$ is now correlated with previous values,\n",
    "\\begin{align}\n",
    "\\epsilon_t = \\rho\\epsilon_{t-1} + u_t,\\ \\ \\ u_t\\sim N(0,1)\n",
    "\\end{align}\n",
    "We begin by performing several $t$ tests when we set $\\beta_1=0$."
   ]
  },
  {
   "cell_type": "code",
   "execution_count": 47,
   "id": "585beaf5",
   "metadata": {},
   "outputs": [
    {
     "name": "stdout",
     "output_type": "stream",
     "text": [
      "Average coefficient estimate: 0.5079074264405374\n",
      "Number of Type II errors: 809\n"
     ]
    }
   ],
   "source": [
    "using Distributions\n",
    "using PyPlot\n",
    "using LinearAlgebra\n",
    "using Printf\n",
    "using Random\n",
    "\n",
    "TypeII = 0;\n",
    "\n",
    "d = Normal(0,1);\n",
    "N = 500;\n",
    "\n",
    "alpha = 0.78;\n",
    "beta1 = 0.5;\n",
    "beta2 = 5.61;\n",
    "\n",
    "rho = 0.99;\n",
    "\n",
    "M = 1000;\n",
    "betas = zeros(M);\n",
    "\n",
    "for ii=1:M\n",
    "\n",
    "    x1 = rand(d,N);\n",
    "    x2 = rand(d,N);\n",
    "\n",
    "    epsInit = 0.0\n",
    "    for ii=1:1000\n",
    "        epsInit = rho*epsInit + rand(Normal(0.0,1.0))\n",
    "    end\n",
    "    eps = zeros(N);\n",
    "    eps[1] = epsInit;\n",
    "    for ii=2:N\n",
    "        eps[ii] = rho*eps[ii-1] + rand(Normal(0.0,1.0))\n",
    "    end\n",
    "\n",
    "    y = alpha .+ beta1*x1 + beta2*x2 + eps;\n",
    "\n",
    "    X = [ones(N) x1 x2];\n",
    "\n",
    "    betaHat = (X'*X)\\(X'*y);\n",
    "    epsHat = y - X*betaHat\n",
    "    SigHat = inv(X'*X)*(epsHat'*epsHat)\n",
    "    \n",
    "    betaHat1 = betaHat[2]\n",
    "    betas[ii] = betaHat1\n",
    "    stdErr1 = sqrt(SigHat[2,2])/sqrt(N-3)\n",
    "    tHat1 = betaHat1/stdErr1;\n",
    "    p1 = cdf(TDist(3),-abs(tHat1)) + (1-cdf(TDist(3),abs(tHat1)))\n",
    "    \n",
    "    if(p1>0.05)\n",
    "        TypeII = TypeII + 1;\n",
    "    end\n",
    "    \n",
    "end\n",
    "\n",
    "println(\"Average coefficient estimate: \", mean(betas))\n",
    "println(\"Number of Type II errors: \", TypeII)"
   ]
  },
  {
   "cell_type": "markdown",
   "id": "f4553048",
   "metadata": {},
   "source": [
    "As with heteroskedasticity, we obtain reasonable parameter estimates, but a huge proportion of Type II errors.  To check that this issue arises from autocorrelation, we repeat with $N(0,1)$ errors."
   ]
  },
  {
   "cell_type": "code",
   "execution_count": 49,
   "id": "9d348bb6",
   "metadata": {},
   "outputs": [
    {
     "name": "stdout",
     "output_type": "stream",
     "text": [
      "Average coefficient estimate: 0.5010950494860122\n",
      "Number of Type II errors: 0\n"
     ]
    }
   ],
   "source": [
    "TypeII = 0\n",
    "\n",
    "for ii=1:M\n",
    "\n",
    "    x1 = rand(d,N);\n",
    "    x2 = rand(d,N);\n",
    "\n",
    "    eps = rand(Normal(),N);\n",
    "\n",
    "    y = alpha .+ beta1*x1 + beta2*x2 + eps;\n",
    "\n",
    "    X = [ones(N) x1 x2];\n",
    "\n",
    "    betaHat = (X'*X)\\(X'*y);\n",
    "    epsHat = y - X*betaHat\n",
    "    SigHat = inv(X'*X)*(epsHat'*epsHat)\n",
    "    \n",
    "    betaHat1 = betaHat[2]\n",
    "    betas[ii] = betaHat1\n",
    "    stdErr1 = sqrt(SigHat[2,2])/sqrt(N-3)\n",
    "    tHat1 = betaHat1/stdErr1;\n",
    "    p1 = cdf(TDist(3),-abs(tHat1)) + (1-cdf(TDist(3),abs(tHat1)))\n",
    "    \n",
    "    if(p1>0.05)\n",
    "        TypeII = TypeII + 1;\n",
    "    end\n",
    "    \n",
    "end\n",
    "\n",
    "println(\"Average coefficient estimate: \", mean(betas))\n",
    "println(\"Number of Type II errors: \", TypeII)"
   ]
  },
  {
   "cell_type": "markdown",
   "id": "0e8a1d61",
   "metadata": {},
   "source": [
    "Removing the autocorrelation reduces the likelihood of a Type II error to almost nothing.  Moreover, reducing the persistence of the autocorrelation modestly disproportionately reduces the fraction of Type II errors reported."
   ]
  },
  {
   "cell_type": "code",
   "execution_count": 56,
   "id": "7bcfa11d",
   "metadata": {},
   "outputs": [
    {
     "name": "stdout",
     "output_type": "stream",
     "text": [
      "Average coefficient estimate: 0.5032504668885712\n",
      "Number of Type II errors: 712\n"
     ]
    }
   ],
   "source": [
    "TypeII = 0\n",
    "\n",
    "rho = 0.98;\n",
    "\n",
    "for ii=1:M\n",
    "\n",
    "    x1 = rand(d,N);\n",
    "    x2 = rand(d,N);\n",
    "\n",
    "    epsInit = 0.0\n",
    "    for ii=1:1000\n",
    "        epsInit = rho*epsInit + rand(Normal(0.0,1.0))\n",
    "    end\n",
    "    eps = zeros(N);\n",
    "    eps[1] = epsInit;\n",
    "    for ii=2:N\n",
    "        eps[ii] = rho*eps[ii-1] + rand(Normal(0.0,1.0))\n",
    "    end\n",
    "\n",
    "    y = alpha .+ beta1*x1 + beta2*x2 + eps;\n",
    "\n",
    "    X = [ones(N) x1 x2];\n",
    "\n",
    "    betaHat = (X'*X)\\(X'*y);\n",
    "    epsHat = y - X*betaHat\n",
    "    SigHat = inv(X'*X)*(epsHat'*epsHat)\n",
    "    \n",
    "    betaHat1 = betaHat[2]\n",
    "    betas[ii] = betaHat1\n",
    "    stdErr1 = sqrt(SigHat[2,2])/sqrt(N-3)\n",
    "    tHat1 = betaHat1/stdErr1;\n",
    "    p1 = cdf(TDist(3),-abs(tHat1)) + (1-cdf(TDist(3),abs(tHat1)))\n",
    "    \n",
    "    if(p1>0.05)\n",
    "        TypeII = TypeII + 1;\n",
    "    end\n",
    "    \n",
    "end\n",
    "\n",
    "println(\"Average coefficient estimate: \", mean(betas))\n",
    "println(\"Number of Type II errors: \", TypeII)"
   ]
  },
  {
   "cell_type": "markdown",
   "id": "a5728bbb",
   "metadata": {},
   "source": [
    "With a persistence of 0.5 the errors essentially disappear entirely."
   ]
  },
  {
   "cell_type": "code",
   "execution_count": null,
   "id": "f7477103",
   "metadata": {},
   "outputs": [],
   "source": []
  }
 ],
 "metadata": {
  "kernelspec": {
   "display_name": "Julia 1.7.2",
   "language": "julia",
   "name": "julia-1.7"
  },
  "language_info": {
   "file_extension": ".jl",
   "mimetype": "application/julia",
   "name": "julia",
   "version": "1.7.2"
  }
 },
 "nbformat": 4,
 "nbformat_minor": 5
}
